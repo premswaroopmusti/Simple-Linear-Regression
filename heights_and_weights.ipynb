{
  "nbformat": 4,
  "nbformat_minor": 0,
  "metadata": {
    "colab": {
      "name": "heights and weights.ipynb",
      "provenance": [],
      "authorship_tag": "ABX9TyN2UKMeWM2P24R8n2ubOSmc",
      "include_colab_link": true
    },
    "kernelspec": {
      "name": "python3",
      "display_name": "Python 3"
    },
    "language_info": {
      "name": "python"
    }
  },
  "cells": [
    {
      "cell_type": "markdown",
      "metadata": {
        "id": "view-in-github",
        "colab_type": "text"
      },
      "source": [
        "<a href=\"https://colab.research.google.com/github/premswaroopmusti/Simple-Linear-Regression/blob/main/heights_and_weights.ipynb\" target=\"_parent\"><img src=\"https://colab.research.google.com/assets/colab-badge.svg\" alt=\"Open In Colab\"/></a>"
      ]
    },
    {
      "cell_type": "code",
      "execution_count": null,
      "metadata": {
        "colab": {
          "base_uri": "https://localhost:8080/"
        },
        "id": "a6R1eiNbwNGn",
        "outputId": "2473f8cc-6929-44b5-cdea-4d61ed4c4ccc"
      },
      "outputs": [
        {
          "output_type": "stream",
          "name": "stdout",
          "text": [
            "    Height  Weight\n",
            "0      147   52.21\n",
            "1      150   53.12\n",
            "2      152   54.48\n",
            "3      155   55.84\n",
            "4      157   57.20\n",
            "5      160   58.57\n",
            "6      163   59.93\n",
            "7      165   61.29\n",
            "8      168   63.11\n",
            "9      170   64.47\n",
            "10     173   66.28\n",
            "11     175   68.10\n",
            "12     178   69.92\n",
            "13     180   72.19\n",
            "14     183   74.46\n"
          ]
        }
      ],
      "source": [
        "import pandas as pd\n",
        "import numpy as np\n",
        "import matplotlib.pyplot as plt\n",
        "dataset = pd.read_excel('/content/data.xlsx')\n",
        "print(dataset)"
      ]
    },
    {
      "cell_type": "code",
      "source": [
        "plt.scatter(dataset.Height,dataset.Weight)\n",
        "plt.title('Height vs Weight')\n",
        "plt.xlabel('Height of woman')\n",
        "plt.ylabel('Weight of woman')\n",
        "plt.show()"
      ],
      "metadata": {
        "colab": {
          "base_uri": "https://localhost:8080/",
          "height": 295
        },
        "id": "rEcmvAkexUp7",
        "outputId": "a15c432f-1172-44ed-f4ca-e5bc8e3478b5"
      },
      "execution_count": null,
      "outputs": [
        {
          "output_type": "display_data",
          "data": {
            "text/plain": [
              "<Figure size 432x288 with 1 Axes>"
            ],
            "image/png": "[encoded data removed]"
          },
          "metadata": {
            "needs_background": "light"
          }
        }
      ]
    },
    {
      "cell_type": "code",
      "source": [
        "X = dataset.iloc[:,0].values\n",
        "y = dataset.iloc[:,1].values\n",
        "from sklearn.model_selection import train_test_split\n",
        "X_train,X_test,y_train,y_test = train_test_split(X,y,test_size = 0.2,random_state = 0)\n",
        "\n"
      ],
      "metadata": {
        "id": "FZXa7dXi0uCu"
      },
      "execution_count": null,
      "outputs": []
    },
    {
      "cell_type": "code",
      "source": [
        "from sklearn.linear_model import LinearRegression\n",
        "model = LinearRegression()\n",
        "\n",
        "\n",
        "X_train = X_train.reshape(-1,1)\n",
        "\n",
        "\n",
        "X_test = X_test.reshape(-1,1)\n",
        "model.fit(X_train,y_train)\n"
      ],
      "metadata": {
        "colab": {
          "base_uri": "https://localhost:8080/"
        },
        "id": "xVePijA9ciWk",
        "outputId": "266028e5-f5ca-448b-d236-7fed7693a8c0"
      },
      "execution_count": null,
      "outputs": [
        {
          "output_type": "execute_result",
          "data": {
            "text/plain": [
              "LinearRegression()"
            ]
          },
          "metadata": {},
          "execution_count": 5
        }
      ]
    },
    {
      "cell_type": "code",
      "source": [
        "y_pred = model.predict(X_test)\n",
        "df = pd.DataFrame({'Actual':y_test,'Predicted':y_pred})\n",
        "print(df)"
      ],
      "metadata": {
        "colab": {
          "base_uri": "https://localhost:8080/"
        },
        "id": "T59PoasqfPNS",
        "outputId": "9b188fa8-cea1-466f-f422-3690bd86b78e"
      },
      "execution_count": null,
      "outputs": [
        {
          "output_type": "stream",
          "name": "stdout",
          "text": [
            "   Actual  Predicted\n",
            "0   53.12  52.930541\n",
            "1   59.93  60.920108\n",
            "2   63.11  63.993019\n"
          ]
        }
      ]
    },
    {
      "cell_type": "code",
      "source": [
        "plt.scatter(X_train,y_train,color='red')\n",
        "plt.plot(X_train,model.predict(X_train),color='green')\n",
        "plt.xlabel('Height')\n",
        "plt.ylabel('Weight')\n",
        "plt.show()"
      ],
      "metadata": {
        "colab": {
          "base_uri": "https://localhost:8080/",
          "height": 279
        },
        "id": "kFypdBX0mejt",
        "outputId": "db71eac0-b984-4200-9f0b-691affc599fc"
      },
      "execution_count": null,
      "outputs": [
        {
          "output_type": "display_data",
          "data": {
            "text/plain": [
              "<Figure size 432x288 with 1 Axes>"
            ],
            "image/png": "[encoded data removed]"
          },
          "metadata": {
            "needs_background": "light"
          }
        }
      ]
    },
    {
      "cell_type": "code",
      "source": [
        "plt.scatter(X_test,y_test,color='red')\n",
        "plt.plot(X_train,model.predict(X_train),color = 'black')\n",
        "plt.xlabel('Height')\n",
        "plt.ylabel('Weight')\n",
        "plt.show()"
      ],
      "metadata": {
        "colab": {
          "base_uri": "https://localhost:8080/",
          "height": 279
        },
        "id": "Sd0We0bNngxr",
        "outputId": "d57f58bc-efac-49c2-b281-e689d1fddb9f"
      },
      "execution_count": null,
      "outputs": [
        {
          "output_type": "display_data",
          "data": {
            "text/plain": [
              "<Figure size 432x288 with 1 Axes>"
            ],
            "image/png": "[encoded data removed]"
          },
          "metadata": {
            "needs_background": "light"
          }
        }
      ]
    },
    {
      "cell_type": "code",
      "source": [
        "import numpy \n",
        "accuracy = model.score(X_test,y_test)\n",
        "print(\"accuracy\",accuracy)"
      ],
      "metadata": {
        "id": "3BkiqJhpn9bJ",
        "colab": {
          "base_uri": "https://localhost:8080/"
        },
        "outputId": "54d57748-fb04-492b-936e-8866ceb9dd41"
      },
      "execution_count": null,
      "outputs": [
        {
          "output_type": "stream",
          "name": "stdout",
          "text": [
            "accuracy 0.9655266437382143\n"
          ]
        }
      ]
    },
    {
      "cell_type": "code",
      "source": [
        "# checking for overfitting and underfitting the data\n",
        "print(\"Training set score: {:.4f}\".format(model.score(X_train,y_train)))\n",
        "print(\"Testing score : {:.4f}\".format(model.score(X_test,y_test)))"
      ],
      "metadata": {
        "id": "JD5tkUXh8x72",
        "colab": {
          "base_uri": "https://localhost:8080/"
        },
        "outputId": "811f5a34-c86a-4c14-b7ab-063bae85937c"
      },
      "execution_count": null,
      "outputs": [
        {
          "output_type": "stream",
          "name": "stdout",
          "text": [
            "Training set score: 0.9902\n",
            "Testing score : 0.9655\n"
          ]
        }
      ]
    },
    {
      "cell_type": "code",
      "source": [
        ""
      ],
      "metadata": {
        "id": "4Cct-4e1mGFt"
      },
      "execution_count": null,
      "outputs": []
    }
  ]
}